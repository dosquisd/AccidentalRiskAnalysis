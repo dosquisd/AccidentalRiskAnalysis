{
 "cells": [
  {
   "cell_type": "code",
   "execution_count": 2,
   "id": "51ac0185",
   "metadata": {},
   "outputs": [],
   "source": [
    "import pandas as pd\n",
    "\n",
    "ROOT_DATA = \"./data/raw\""
   ]
  },
  {
   "cell_type": "code",
   "execution_count": 4,
   "id": "23e10ae5",
   "metadata": {},
   "outputs": [
    {
     "name": "stdout",
     "output_type": "stream",
     "text": [
      "Datos totales en Accidente de Tráfico: 330063\n",
      "Datos totales en vm_acc_via: 396244\n"
     ]
    }
   ],
   "source": [
    "df_acc = pd.read_csv(f\"{ROOT_DATA}/accidente-de-trafico-en-bogota-entre-2007-y-2017-geopoint.csv\", sep=';')\n",
    "df_vm = pd.read_csv(f\"{ROOT_DATA}/vm_acc_via.csv\", sep=';')\n",
    "\n",
    "print(f\"Datos totales en Accidente de Tráfico: {len(df_acc)}\")\n",
    "print(f\"Datos totales en vm_acc_via: {len(df_vm)}\")"
   ]
  },
  {
   "cell_type": "code",
   "execution_count": 20,
   "id": "d97d05ea",
   "metadata": {},
   "outputs": [
    {
     "name": "stdout",
     "output_type": "stream",
     "text": [
      "Duplicados en df_acc: 0\n",
      "Duplicados en df_vm: 75005\n"
     ]
    }
   ],
   "source": [
    "# Duplicados en código de accidente\n",
    "duplicados_acc = df_acc['CODIGO_ACCIDENTE'].duplicated().sum()\n",
    "print(f\"Duplicados en df_acc: {duplicados_acc}\")\n",
    "\n",
    "duplicados_vm = df_vm['CODIGO_ACCIDENTE'].duplicated().sum()\n",
    "print(f\"Duplicados en df_vm: {duplicados_vm}\")"
   ]
  },
  {
   "cell_type": "code",
   "execution_count": 21,
   "id": "81d7a70c",
   "metadata": {},
   "outputs": [
    {
     "name": "stdout",
     "output_type": "stream",
     "text": [
      "Número de registros en el DataFrame resultante unido por objectID: 179310\n",
      "Número de registros en el DataFrame resultante unido por formulario: 396244\n",
      "Número de registros en el DataFrame resultante unido por codigo_accidente: 396244\n"
     ]
    }
   ],
   "source": [
    "# Joins\n",
    "df_merged_objectID = pd.merge(df_acc, df_vm, on='OBJECTID', how='inner')\n",
    "df_merged_formulario = pd.merge(df_acc, df_vm, on='FORMULARIO', how='inner')\n",
    "df_merged_cod_accidente = pd.merge(df_acc, df_vm, on='CODIGO_ACCIDENTE', how='inner')\n",
    "\n",
    "print(f\"Número de registros en el DataFrame resultante unido por objectID: {len(df_merged_objectID)}\")\n",
    "print(f\"Número de registros en el DataFrame resultante unido por formulario: {len(df_merged_formulario)}\")\n",
    "print(f\"Número de registros en el DataFrame resultante unido por codigo_accidente: {len(df_merged_cod_accidente)}\")\n"
   ]
  },
  {
   "cell_type": "code",
   "execution_count": 14,
   "id": "4cfb83f9",
   "metadata": {},
   "outputs": [
    {
     "name": "stdout",
     "output_type": "stream",
     "text": [
      "Accidentes con datos de vía: 396244\n",
      "Accidentes sin datos de vía: 0\n"
     ]
    },
    {
     "data": {
      "text/plain": [
       "Index(['Geo Point', 'OBJECTID_x', 'FORMULARIO_x', 'CODIGO_ACCIDENTE',\n",
       "       'FECHA_OCURRENCIA', 'HORA_OCURRENCIA', 'ANO_OCURRENCIA',\n",
       "       'MES_OCURRENCIA', 'DIA_OCURRENCIA', 'DIRECCION', 'GRAVEDAD', 'CLASE',\n",
       "       'LOCALIDAD', 'AREAS_TRANSITO', 'CUADRANTE_TRANSITO', 'MUNICIPIO',\n",
       "       'TEXTO_OBSERVACIONES', 'FECHA_HORA', 'OBJECTID_y', 'FORMULARIO_y',\n",
       "       'CODIGO_VIA', 'GEOMETRICA_A', 'GEOMETRICA_B', 'GEOMETRICA_C',\n",
       "       'UTILIZACION', 'CALZADAS', 'CARRILES', 'MATERIAL', 'ESTADO',\n",
       "       'CONDICIONES', 'ILUMINACION_A', 'ILUMINACION_B', 'AGENTE_TRANSITO',\n",
       "       'SEMAFORO', 'VISUAL', 'CODIGO'],\n",
       "      dtype='object')"
      ]
     },
     "execution_count": 14,
     "metadata": {},
     "output_type": "execute_result"
    }
   ],
   "source": [
    "print(f\"Accidentes con datos de vía: {df_merged_cod_accidente['CODIGO_VIA'].notna().sum()}\")\n",
    "print(f\"Accidentes sin datos de vía: {df_merged_cod_accidente['CODIGO_VIA'].isna().sum()}\")\n",
    "df_merged_cod_accidente.columns"
   ]
  },
  {
   "cell_type": "code",
   "execution_count": null,
   "id": "f4b0b891",
   "metadata": {},
   "outputs": [
    {
     "name": "stdout",
     "output_type": "stream",
     "text": [
      "Cantidad de registros donde FORMULARIO difiere: 0\n",
      "Empty DataFrame\n",
      "Columns: [CODIGO_ACCIDENTE, FORMULARIO_x, FORMULARIO_y]\n",
      "Index: []\n"
     ]
    }
   ],
   "source": [
    "# Filas donde FORMULARIO_x y FORMULARIO_y son diferentes (y FORMULARIO_y no es nulo)\n",
    "diff_formularios = df_merged_cod_accidente[df_merged_cod_accidente['FORMULARIO_x'] != df_merged_cod_accidente['FORMULARIO_y']]\n",
    "\n",
    "print(f\"Cantidad de registros donde FORMULARIO difiere: {len(diff_formularios)}\")"
   ]
  },
  {
   "cell_type": "code",
   "execution_count": null,
   "id": "644ce433",
   "metadata": {},
   "outputs": [
    {
     "data": {
      "text/plain": [
       "Index(['Geo Point', 'OBJECTID_x', 'FORMULARIO', 'CODIGO_ACCIDENTE',\n",
       "       'FECHA_OCURRENCIA', 'HORA_OCURRENCIA', 'ANO_OCURRENCIA',\n",
       "       'MES_OCURRENCIA', 'DIA_OCURRENCIA', 'DIRECCION', 'GRAVEDAD', 'CLASE',\n",
       "       'LOCALIDAD', 'AREAS_TRANSITO', 'CUADRANTE_TRANSITO', 'MUNICIPIO',\n",
       "       'TEXTO_OBSERVACIONES', 'FECHA_HORA', 'OBJECTID_y', 'CODIGO_VIA',\n",
       "       'GEOMETRICA_A', 'GEOMETRICA_B', 'GEOMETRICA_C', 'UTILIZACION',\n",
       "       'CALZADAS', 'CARRILES', 'MATERIAL', 'ESTADO', 'CONDICIONES',\n",
       "       'ILUMINACION_A', 'ILUMINACION_B', 'AGENTE_TRANSITO', 'SEMAFORO',\n",
       "       'VISUAL', 'CODIGO'],\n",
       "      dtype='object')"
      ]
     },
     "execution_count": 25,
     "metadata": {},
     "output_type": "execute_result"
    }
   ],
   "source": [
    "# Eliminar una columna de formularios\n",
    "df_merged_cod_accidente.drop('FORMULARIO_y', axis=1, inplace=True)\n",
    "df_merged_cod_accidente.rename(columns={'FORMULARIO_x': 'FORMULARIO'}, inplace=True)\n",
    "\n",
    "df_merged_cod_accidente.columns"
   ]
  }
 ],
 "metadata": {
  "kernelspec": {
   "display_name": "Python 3",
   "language": "python",
   "name": "python3"
  },
  "language_info": {
   "codemirror_mode": {
    "name": "ipython",
    "version": 3
   },
   "file_extension": ".py",
   "mimetype": "text/x-python",
   "name": "python",
   "nbconvert_exporter": "python",
   "pygments_lexer": "ipython3",
   "version": "3.13.7"
  }
 },
 "nbformat": 4,
 "nbformat_minor": 5
}
